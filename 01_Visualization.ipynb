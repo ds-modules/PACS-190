{
 "cells": [
  {
   "cell_type": "markdown",
   "metadata": {},
   "source": [
    "# Introduction to matplotlib\n",
    "\n",
    "---\n",
    "\n",
    "<img src = \"https://matplotlib.org/_static/logo2.svg\">"
   ]
  },
  {
   "cell_type": "markdown",
   "metadata": {},
   "source": [
    "In this notebook, we will learn about the basics of matplotlib, yet another data science library.\n",
    "\n",
    "Estimated Time: 30 minutes\n",
    "\n",
    "---"
   ]
  },
  {
   "cell_type": "markdown",
   "metadata": {},
   "source": [
    "## 1. Introduction\n",
    "\n",
    "*What is matplotlib?*\n",
    "\n",
    "Here's the Wikipedia definition: \"matplotlib is a plotting library for the Python programming language and its numerical mathematics extension NumPy.\"\n",
    "\n",
    "Basically, matplotlib is a cool way we can create plots. \n",
    "\n",
    "A note on visualization in general: Visualization is SUPER important in data science. Sometimes, we create visualizations to examine our data before we begin analysis. Other times, we include visualizations in our final reports to convey important information in a nice manner.\n",
    "\n",
    "With that, let's learn about matplotlib! Let's import it as well as numpy to start us off!"
   ]
  },
  {
   "cell_type": "code",
   "execution_count": 15,
   "metadata": {
    "collapsed": true
   },
   "outputs": [],
   "source": [
    "import numpy as np\n",
    "import matplotlib.pyplot as plt"
   ]
  },
  {
   "cell_type": "markdown",
   "metadata": {},
   "source": [
    "---\n",
    "\n",
    "## 2. Basics of matplotlib\n",
    "\n",
    "First, let's talk about how matplotlib works in general. Here's how we do things: we work with the `plt` module (we imported matplotlib as `plt`, so that's the name we're going to use now), adding things to our plot one by one. Then, when we're done adding all of the things we want to add, we call `plt.show()` to display our plot with all of its features!\n",
    "\n",
    "Again, here's the general framework:\n",
    "\n",
    "<center>`plt.<...> # Adding things to our plot`</center>\n",
    "\n",
    "<center>`plt.<...> # Adding things to our plot`</center>\n",
    "\n",
    "<center>`plt.<...> # Adding things to our plot`</center>\n",
    "\n",
    "<center>`plt.show() # When we're done`</center>\n",
    "\n",
    "Now that we know that, let's go ahead and start doing fun stuff!\n",
    "\n",
    "---"
   ]
  },
  {
   "cell_type": "markdown",
   "metadata": {},
   "source": [
    "## 3. Simple Line Plot\n",
    "\n",
    "Let's see how to create a line plot with matplotlib. What do you need to create a line? x and y coordinates of course! Let's make those:"
   ]
  },
  {
   "cell_type": "code",
   "execution_count": 4,
   "metadata": {
    "collapsed": true
   },
   "outputs": [],
   "source": [
    "x = [1, 2, 3]\n",
    "y = [4, 5, 6]"
   ]
  },
  {
   "cell_type": "markdown",
   "metadata": {},
   "source": [
    "To plot a line plot with these two arrays is easy! We need to call the plot function from plt, and pass in the x and y arrays. That's it!"
   ]
  },
  {
   "cell_type": "code",
   "execution_count": 7,
   "metadata": {},
   "outputs": [
    {
     "data": {
      "text/plain": [
       "[<matplotlib.lines.Line2D at 0x29f0a46ddd8>]"
      ]
     },
     "execution_count": 7,
     "metadata": {},
     "output_type": "execute_result"
    }
   ],
   "source": [
    "plt.plot(x, y)"
   ]
  },
  {
   "cell_type": "markdown",
   "metadata": {},
   "source": [
    "Huh? No plot's showing up! What did we forget..? Add in the line below!"
   ]
  },
  {
   "cell_type": "code",
   "execution_count": 9,
   "metadata": {
    "collapsed": true
   },
   "outputs": [],
   "source": [
    "### YOUR CODE HERE"
   ]
  },
  {
   "cell_type": "markdown",
   "metadata": {},
   "source": [
    "<b>Question 3.1: </b> Plot the x = y line by defining your own x and y arrays and then using matplotlib!"
   ]
  },
  {
   "cell_type": "code",
   "execution_count": 12,
   "metadata": {
    "collapsed": true
   },
   "outputs": [],
   "source": [
    "### YOUR CODE HERE"
   ]
  },
  {
   "cell_type": "markdown",
   "metadata": {},
   "source": [
    "---\n",
    "\n",
    "## 4. Bar Charts\n",
    "\n",
    "Wow, line plots sure were easy! Let's move on to more of a challenge: bar charts. To review, a bar chart consists of one or many bars. Each bar represents a different category of a categorical variable, and the height or y-value of each bar is the value of that category. \n",
    "\n",
    "For example, say we had the counts of the animals your friends owned. We could visualize this with a bar chart. In fact, let's do exactly that!"
   ]
  },
  {
   "cell_type": "code",
   "execution_count": 13,
   "metadata": {
    "collapsed": true
   },
   "outputs": [],
   "source": [
    "animals = [\"Cat\", \"Dog\", \"Bird\", \"Zebra\"]\n",
    "counts = [280, 120, 60, 3]"
   ]
  },
  {
   "cell_type": "markdown",
   "metadata": {},
   "source": [
    "We are going to use the `plt.bar` function. The required arguments are two things: \n",
    "\n",
    "1) `left`, which is a sequence of scalars, which represents the x coordinates of the left sides of the bars\n",
    "\n",
    "2) `right`, which is also a sequence of scalars, which represents the heights of the bars\n",
    "\n",
    "This may be a bit confusing, but here's what we're going to use for `left`: the array starting with numbers 0, 1, ..., up to the number of bars we want in our bar chart. We can accomplish with np.arange.\n",
    "\n",
    "As a reminder, np.arange(x) creates an array with numbers 0, 1, ..., x - 1, which is exactly what we want!"
   ]
  },
  {
   "cell_type": "code",
   "execution_count": 20,
   "metadata": {
    "collapsed": true
   },
   "outputs": [],
   "source": [
    "left = np.arange(len(animals))"
   ]
  },
  {
   "cell_type": "markdown",
   "metadata": {},
   "source": [
    "Right would just be the counts, which we already have. Let's go ahead and plot our bar chart!"
   ]
  },
  {
   "cell_type": "code",
   "execution_count": 23,
   "metadata": {},
   "outputs": [
    {
     "data": {
      "image/png": "[encoded data removed]",
      "text/plain": [
       "<matplotlib.figure.Figure at 0x29f0a897a90>"
      ]
     },
     "metadata": {},
     "output_type": "display_data"
    }
   ],
   "source": [
    "plt.bar(left, counts)\n",
    "plt.show()"
   ]
  },
  {
   "cell_type": "markdown",
   "metadata": {},
   "source": [
    "Hmm... this doesn't seem to be very informative. Our array for `left` placed our bars nicely, but we don't actually want those x-values there. We want labels which are our animals! Here's how we'll accomplish that:"
   ]
  },
  {
   "cell_type": "code",
   "execution_count": 24,
   "metadata": {},
   "outputs": [
    {
     "data": {
      "image/png": "[encoded data removed]",
      "text/plain": [
       "<matplotlib.figure.Figure at 0x29f0a926518>"
      ]
     },
     "metadata": {},
     "output_type": "display_data"
    }
   ],
   "source": [
    "plt.bar(left, counts)\n",
    "plt.xticks(left, animals)\n",
    "plt.show()"
   ]
  },
  {
   "cell_type": "markdown",
   "metadata": {},
   "source": [
    "Basically, what we did was change our x-labels from the numbers to the labels for the animals with the function `xticks`."
   ]
  },
  {
   "cell_type": "markdown",
   "metadata": {},
   "source": [
    "<b>Question 4.1:</b> Create your own bar chart! This time, we want you to plot the names of fruits against their counts. If you ever get stuck, feel free to look above, but try to do what you can from memory :)"
   ]
  },
  {
   "cell_type": "code",
   "execution_count": 25,
   "metadata": {
    "collapsed": true
   },
   "outputs": [],
   "source": [
    "fruits = [\"strawberry\", \"blueberry\", \"cantaloupe\", \"orange\", \"apple\"]\n",
    "fruit_counts = [100, 230, 3, 52, 64]"
   ]
  },
  {
   "cell_type": "code",
   "execution_count": 26,
   "metadata": {
    "collapsed": true
   },
   "outputs": [],
   "source": [
    "### YOUR CODE HERE"
   ]
  },
  {
   "cell_type": "markdown",
   "metadata": {},
   "source": [
    "---\n",
    "\n",
    "## 4. Histograms\n",
    "\n",
    "This is the final kind of plot we're going to learn today. Histograms! To review, histograms are \"a diagram consisting of rectangles whose area is proportional to the frequency of a variable and whose width is equal to the class interval.\"\n",
    "\n",
    "Let's create a histogram of exam scores."
   ]
  },
  {
   "cell_type": "code",
   "execution_count": 27,
   "metadata": {
    "collapsed": true
   },
   "outputs": [],
   "source": [
    "scores = [80, 96, 78, 100, 23, 79, 93, 95]"
   ]
  },
  {
   "cell_type": "code",
   "execution_count": 29,
   "metadata": {},
   "outputs": [
    {
     "data": {
      "image/png": "[encoded data removed]",
      "text/plain": [
       "<matplotlib.figure.Figure at 0x29f0a895048>"
      ]
     },
     "metadata": {},
     "output_type": "display_data"
    }
   ],
   "source": [
    "plt.hist(scores)\n",
    "plt.show()"
   ]
  },
  {
   "cell_type": "markdown",
   "metadata": {},
   "source": [
    "Wow, that was easy! Why don't you try?\n",
    "\n",
    "<b>Question 4.1: </b> Create a histogram for these exam scores."
   ]
  },
  {
   "cell_type": "code",
   "execution_count": 30,
   "metadata": {
    "collapsed": true
   },
   "outputs": [],
   "source": [
    "other_scores = [83, 28, 12, 34, 29, 89]"
   ]
  },
  {
   "cell_type": "code",
   "execution_count": 31,
   "metadata": {
    "collapsed": true
   },
   "outputs": [],
   "source": [
    "### YOUR CODE HERE"
   ]
  },
  {
   "cell_type": "markdown",
   "metadata": {},
   "source": [
    "---\n",
    "\n",
    "## 5. Customizations\n",
    "\n",
    "Wow, we've learned so many plots today! However you may notice... our plots are pretty basic. They have the main plot and that's it. Wouldn't it be nice to add in things like titles and x-labels and colors? Let's learn how to do that!\n",
    "\n",
    "Basically, we just need to add on more \"layers\" to our plot before calling show. Here are a few things we can add:\n",
    "\n",
    "a) `title`\n",
    "\n",
    "We can add a title to our plot by using `plt.title([name])`"
   ]
  },
  {
   "cell_type": "code",
   "execution_count": 32,
   "metadata": {},
   "outputs": [
    {
     "data": {
      "image/png": "[encoded data removed]",
      "text/plain": [
       "<matplotlib.figure.Figure at 0x29f0a4fe7f0>"
      ]
     },
     "metadata": {},
     "output_type": "display_data"
    }
   ],
   "source": [
    "plt.plot(x, y)\n",
    "plt.title(\"My Line Plot!\")\n",
    "plt.show()"
   ]
  },
  {
   "cell_type": "markdown",
   "metadata": {},
   "source": [
    "b) `xlabel`, `ylabel`\n",
    "\n",
    "We can add labels for our x and y axes with these functions."
   ]
  },
  {
   "cell_type": "code",
   "execution_count": 33,
   "metadata": {},
   "outputs": [
    {
     "data": {
      "image/png": "[encoded data removed]",
      "text/plain": [
       "<matplotlib.figure.Figure at 0x29f0a9bcd30>"
      ]
     },
     "metadata": {},
     "output_type": "display_data"
    }
   ],
   "source": [
    "plt.plot(x, y)\n",
    "plt.title(\"My Line Plot!\")\n",
    "plt.xlabel(\"cats\")\n",
    "plt.ylabel(\"dogs\")\n",
    "plt.show()"
   ]
  },
  {
   "cell_type": "markdown",
   "metadata": {
    "collapsed": true
   },
   "source": [
    "c) Adding a splash of color!\n",
    "\n",
    "Let's figure out how to make our line a different color than what it is now! It's also pretty easy, we just need to add an extra thing to our plot call on plt."
   ]
  },
  {
   "cell_type": "code",
   "execution_count": 37,
   "metadata": {},
   "outputs": [
    {
     "data": {
      "image/png": "[encoded data removed]",
      "text/plain": [
       "<matplotlib.figure.Figure at 0x29f0bb27208>"
      ]
     },
     "metadata": {},
     "output_type": "display_data"
    }
   ],
   "source": [
    "plt.plot(x, y, color='green') # We added color = 'green'\n",
    "plt.title(\"My Line Plot!\")\n",
    "plt.xlabel(\"cats\")\n",
    "plt.ylabel(\"dogs\")\n",
    "plt.show()"
   ]
  },
  {
   "cell_type": "markdown",
   "metadata": {},
   "source": [
    "<b>Question 5.1</b> Your turn! Go ahead and customize the barchart we created earlier. Make it look super nice!"
   ]
  },
  {
   "cell_type": "code",
   "execution_count": 38,
   "metadata": {},
   "outputs": [
    {
     "data": {
      "image/png": "[encoded data removed]",
      "text/plain": [
       "<matplotlib.figure.Figure at 0x29f0bb273c8>"
      ]
     },
     "metadata": {},
     "output_type": "display_data"
    }
   ],
   "source": [
    "### ADD CUSTOMIZATIONS\n",
    "plt.bar(left, counts)\n",
    "plt.xticks(left, animals)\n",
    "plt.show()"
   ]
  },
  {
   "cell_type": "code",
   "execution_count": null,
   "metadata": {
    "collapsed": true
   },
   "outputs": [],
   "source": []
  }
 ],
 "metadata": {
  "kernelspec": {
   "display_name": "Python 3",
   "language": "python",
   "name": "python3"
  },
  "language_info": {
   "codemirror_mode": {
    "name": "ipython",
    "version": 3
   },
   "file_extension": ".py",
   "mimetype": "text/x-python",
   "name": "python",
   "nbconvert_exporter": "python",
   "pygments_lexer": "ipython3",
   "version": "3.6.3"
  }
 },
 "nbformat": 4,
 "nbformat_minor": 2
}
