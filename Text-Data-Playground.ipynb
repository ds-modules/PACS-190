{
 "cells": [
  {
   "cell_type": "markdown",
   "metadata": {},
   "source": [
    "# [PACS-190] Text Analysis Playground\n",
    "\n",
    "\n",
    "### Professor Matthew Specter\n",
    "\n",
    "This notebook provides template code for starting text processing, exploration, and analysis on your own text data. If your data is text contained in a `.txt`, Google Doc, or Microsoft Word file, this notebook may be appropriate.\n",
    "\n",
    "---\n",
    "\n",
    "\n",
    "\n",
    "**Dependencies:**"
   ]
  },
  {
   "cell_type": "code",
   "execution_count": null,
   "metadata": {},
   "outputs": [],
   "source": [
    "# Run this cell first to load necessary programs\n",
    "import numpy as np\n",
    "import pandas as pd\n",
    "import matplotlib.pyplot as plt\n",
    "%matplotlib inline\n",
    "import re\n",
    "from string import punctuation\n",
    "from sklearn.feature_extraction.stop_words import ENGLISH_STOP_WORDS\n",
    "from collections import Counter"
   ]
  },
  {
   "cell_type": "markdown",
   "metadata": {},
   "source": [
    "## Uploading Your Data  to DataHub<a id='section 1'></a>"
   ]
  },
  {
   "cell_type": "markdown",
   "metadata": {},
   "source": [
    "1. Make sure your data is saved to your computer as a `.txt` file. \n",
    "    - For Google Docs, click the \"File\" menu, choose \"Download As\", and select \"Plain Text (.txt)\"\n",
    "    - For Microsoft Word, click the \"File\" menu and choose \"Save As\". In the dropdown menu below where you are asked to input the file name, choose \"Plain Text (\\*.txt)\"\n",
    "2. Go to the Jupyter dashboard ([datahub.berkeley.edu](datahub.berkeley.edu): the place where you see all your datahub folders- if you're in a notebook, you can get there by clicking on the jupyter logo at the top left). Click on the PACS-190 folder, then the data folder. \n",
    "3. Once you're in the PACS/data folder, click on the `upload` button at the top right, then upload your data file."
   ]
  },
  {
   "cell_type": "markdown",
   "metadata": {},
   "source": [
    "## Loading Your Data into the Notebook <a id='section 2'></a>"
   ]
  },
  {
   "cell_type": "markdown",
   "metadata": {},
   "source": [
    "Once your file is uploaded to Datahub, fill in the ellipses in the cell below with the name of your file. Remember to **include the filename extension** (e.g. use \"my_file.txt\" instead of \"my_file\").\n",
    "\n",
    "Run the cell to load your data and save it to the variable `data`."
   ]
  },
  {
   "cell_type": "code",
   "execution_count": null,
   "metadata": {},
   "outputs": [],
   "source": [
    "# load a text file\n",
    "with open(\"data/...\", \"r\") as f:\n",
    "    data = f.read()"
   ]
  },
  {
   "cell_type": "markdown",
   "metadata": {},
   "source": [
    "## Explore Your Data <a id='section 3'></a>"
   ]
  },
  {
   "cell_type": "markdown",
   "metadata": {},
   "source": [
    "Use what you've learned in the module to explore your data. Some commonly helpful function calls have been provided below."
   ]
  },
  {
   "cell_type": "markdown",
   "metadata": {},
   "source": [
    "<div class=\"alert-info\">\n",
    "    **NOTE**: your data will likely need some cleaning or preprocessing to prep it for analysis. Since every data set and analysis is different, we cannot provide you a template for this step. If you have questions about how to preprocess your data, please drop in for [Peer Consulting](https://data.berkeley.edu/education/peer-consulting) or make an appointment at the [DLab](http://dlab.berkeley.edu/consulting).\n",
    "</div> "
   ]
  },
  {
   "cell_type": "code",
   "execution_count": null,
   "metadata": {},
   "outputs": [],
   "source": [
    "# get the number of characters in your data\n",
    "len(data)"
   ]
  },
  {
   "cell_type": "code",
   "execution_count": null,
   "metadata": {},
   "outputs": [],
   "source": [
    "# define a function to tokenize your text\n",
    "def tokenize(text):\n",
    "    no_punc = ''.join([c for c in text if c not in punctuation])\n",
    "    no_punc_lower = no_punc.lower()\n",
    "    no_punc_lower_tokens = no_punc_lower.split()\n",
    "    return no_punc_lower_tokens"
   ]
  },
  {
   "cell_type": "code",
   "execution_count": null,
   "metadata": {},
   "outputs": [],
   "source": [
    "# get tokens for your text\n",
    "tokens = tokenize(data)\n",
    "tokens"
   ]
  },
  {
   "cell_type": "code",
   "execution_count": null,
   "metadata": {},
   "outputs": [],
   "source": [
    "# remove stop words\n",
    "tokens_no_stops = []\n",
    "\n",
    "for t in tokens:\n",
    "    if t not in ENGLISH_STOP_WORDS:\n",
    "        tokens_no_stops.append(t)\n",
    "\n",
    "tokens_no_stops"
   ]
  },
  {
   "cell_type": "code",
   "execution_count": null,
   "metadata": {},
   "outputs": [],
   "source": [
    "# get some word counts\n",
    "Counter(tokens_no_stops).most_common()"
   ]
  },
  {
   "cell_type": "markdown",
   "metadata": {},
   "source": [
    "# Resources\n",
    "\n",
    "- [The Berkeley DLab](http://dlab.berkeley.edu/): introductory coding and data analysis workshops, individual data science consulting conducted by grad students and staff. Most by appointment/preregistration only. In Barrows Hall.\n",
    "- [Peer Consulting](https://data.berkeley.edu/education/peer-consulting): drop-in office hours for introductory-level data science help, including debugging and concepts. First floor Moffitt Library."
   ]
  },
  {
   "cell_type": "markdown",
   "metadata": {},
   "source": [
    "---\n",
    "Notebook developed by: Keeley Takimoto (@ktakimoto on github)\n",
    "\n",
    "Data Science Modules: http://data.berkeley.edu/education/modules\n"
   ]
  }
 ],
 "metadata": {
  "anaconda-cloud": {},
  "kernelspec": {
   "display_name": "Python 3",
   "language": "python",
   "name": "python3"
  },
  "language_info": {
   "codemirror_mode": {
    "name": "ipython",
    "version": 3
   },
   "file_extension": ".py",
   "mimetype": "text/x-python",
   "name": "python",
   "nbconvert_exporter": "python",
   "pygments_lexer": "ipython3",
   "version": "3.6.4"
  }
 },
 "nbformat": 4,
 "nbformat_minor": 1
}
