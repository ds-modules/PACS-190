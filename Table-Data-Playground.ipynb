{
 "cells": [
  {
   "cell_type": "markdown",
   "metadata": {},
   "source": [
    "# [PACS-190] Tabular Text Analysis Playground\n",
    "\n",
    "\n",
    "### Professor Matthew Specter\n",
    "\n",
    "This notebook provides template code for starting text processing, exploration, and analysis on your own tabular data. If your data is formatted in a table contained in a `.csv`, Google Sheet, or Microsoft Excel file, this notebook may be appropriate.\n",
    "\n",
    "---\n",
    "\n",
    "\n",
    "\n",
    "**Dependencies:**"
   ]
  },
  {
   "cell_type": "code",
   "execution_count": null,
   "metadata": {},
   "outputs": [],
   "source": [
    "# Run this cell first to load necessary programs\n",
    "import pandas as pd\n",
    "import numpy as np\n",
    "import matplotlib.pyplot as plt\n",
    "%matplotlib inline\n",
    "import re\n",
    "from sklearn.feature_extraction.text import CountVectorizer\n",
    "!pip install textblob\n",
    "from textblob import TextBlob\n",
    "from sklearn.feature_extraction.text import TfidfTransformer\n",
    "import csv\n",
    "pd.set_option('max_colwidth', 280)\n",
    "plt.style.use('fivethirtyeight')\n",
    "from sklearn.feature_extraction.stop_words import ENGLISH_STOP_WORDS\n",
    "\n",
    "stop_words = ENGLISH_STOP_WORDS"
   ]
  },
  {
   "cell_type": "markdown",
   "metadata": {},
   "source": [
    "## Uploading Your Data  to DataHub<a id='section 1'></a>"
   ]
  },
  {
   "cell_type": "markdown",
   "metadata": {},
   "source": [
    "1. Make sure your data is saved to your computer as a `.csv` file. \n",
    "    - For Google Sheets, click the \"File\" menu, choose \"Download As\", and select \"Comma-separated values (.csv)\"\n",
    "    - For Microsoft Excel, click the \"File\" menu and choose \"Save As\". In the dropdown menu below where you are asked to input the file name, choose \"CSV UTF-8 (Comma delimited) (\\*.csv)\"\n",
    "2. Go to the Jupyter dashboard ([datahub.berkeley.edu](datahub.berkeley.edu): the place where you see all your datahub folders- if you're in a notebook, you can get there by clicking on the jupyter logo at the top left). Click on the PACS-190 folder, then the data folder. \n",
    "3. Once you're in the PACS/data folder, click on the `upload` button at the top right, then upload your data file."
   ]
  },
  {
   "cell_type": "markdown",
   "metadata": {},
   "source": [
    "## Loading Your Data into the Notebook <a id='section 2'></a>"
   ]
  },
  {
   "cell_type": "markdown",
   "metadata": {},
   "source": [
    "Once your file is uploaded to Datahub, fill in the ellipses in the cell below with the name of your file. Remember to **include the filename extension** (e.g. use \"my_file.csv\" instead of \"my_file\").\n",
    "\n",
    "Run the cell to load your data and save it to the variable `data`."
   ]
  },
  {
   "cell_type": "code",
   "execution_count": null,
   "metadata": {},
   "outputs": [],
   "source": [
    "# load a text file\n",
    "data = pd.read_csv(\"data/...\")"
   ]
  },
  {
   "cell_type": "markdown",
   "metadata": {},
   "source": [
    "## Explore Your Data <a id='section 3'></a>"
   ]
  },
  {
   "cell_type": "markdown",
   "metadata": {},
   "source": [
    "Use what you've learned in the module to explore your data. Some commonly helpful function calls have been provided below."
   ]
  },
  {
   "cell_type": "markdown",
   "metadata": {},
   "source": [
    "<div class=\"alert-info\">\n",
    "    **NOTE**: your data will likely need some cleaning or preprocessing to prep it for analysis. Since every data set and analysis is different, we cannot provide you a template for this step. If you have questions about how to preprocess your data, please drop in for [Peer Consulting](https://data.berkeley.edu/education/peer-consulting) or make an appointment at the [DLab](http://dlab.berkeley.edu/consulting).\n",
    "</div> "
   ]
  },
  {
   "cell_type": "code",
   "execution_count": null,
   "metadata": {},
   "outputs": [],
   "source": [
    "# show the first five rows of your table\n",
    "data.head()"
   ]
  },
  {
   "cell_type": "code",
   "execution_count": null,
   "metadata": {},
   "outputs": [],
   "source": [
    "# get some summary statistics for your data\n",
    "data.describe()"
   ]
  },
  {
   "cell_type": "code",
   "execution_count": null,
   "metadata": {},
   "outputs": [],
   "source": [
    "# replace the ellipses with the name of the column that has the text data\n",
    "# to get a list of the texts\n",
    "texts = data[\"...\"]"
   ]
  },
  {
   "cell_type": "code",
   "execution_count": null,
   "metadata": {},
   "outputs": [],
   "source": [
    "# clean the texts as needed\n",
    "# NOTE: cleaning is very specific to the types of documents you are working with\n",
    "# Cleaning often involves regex\n"
   ]
  },
  {
   "cell_type": "code",
   "execution_count": null,
   "metadata": {},
   "outputs": [],
   "source": [
    "# create a term-document frequency matrix for your texts\n",
    "cv = CountVectorizer(stop_words=stop_words)\n",
    "dtm = cv.fit_transform(texts)\n",
    "tt = TfidfTransformer(norm='l1',use_idf=False)\n",
    "dtm_tf = tt.fit_transform(dtm)\n",
    "dtm_tf"
   ]
  },
  {
   "cell_type": "code",
   "execution_count": null,
   "metadata": {},
   "outputs": [],
   "source": [
    "# get some word counts\n",
    "Counter(tokens_no_stops).most_common()"
   ]
  },
  {
   "cell_type": "markdown",
   "metadata": {},
   "source": [
    "# Resources\n",
    "\n",
    "- [The Berkeley DLab](http://dlab.berkeley.edu/): introductory coding and data analysis workshops, individual data science consulting conducted by grad students and staff. Most by appointment/preregistration only. In Barrows Hall.\n",
    "- [Peer Consulting](https://data.berkeley.edu/education/peer-consulting): drop-in office hours for introductory-level data science help, including debugging and concepts. First floor Moffitt Library."
   ]
  },
  {
   "cell_type": "markdown",
   "metadata": {},
   "source": [
    "---\n",
    "Notebook developed by: Keeley Takimoto (@ktakimoto on github)\n",
    "\n",
    "Data Science Modules: http://data.berkeley.edu/education/modules\n"
   ]
  }
 ],
 "metadata": {
  "anaconda-cloud": {},
  "kernelspec": {
   "display_name": "Python 3",
   "language": "python",
   "name": "python3"
  },
  "language_info": {
   "codemirror_mode": {
    "name": "ipython",
    "version": 3
   },
   "file_extension": ".py",
   "mimetype": "text/x-python",
   "name": "python",
   "nbconvert_exporter": "python",
   "pygments_lexer": "ipython3",
   "version": "3.6.4"
  }
 },
 "nbformat": 4,
 "nbformat_minor": 1
}
